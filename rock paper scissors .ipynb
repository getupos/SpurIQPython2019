{
 "cells": [
  {
   "cell_type": "code",
   "execution_count": 4,
   "metadata": {},
   "outputs": [
    {
     "name": "stdout",
     "output_type": "stream",
     "text": [
      "your move: s\n",
      "You:  s\n",
      "worst player ever:  r\n",
      "I win but i am still the worst!!!!!!!!!!!!!!!P.S. I pee\n",
      "your move: s\n",
      "You:  s\n",
      "worst player ever:  p\n",
      "You win because you are the best\n",
      "your move: q\n"
     ]
    }
   ],
   "source": [
    "import random\n",
    "\n",
    "moves = ['r','p','s']\n",
    "player_wins = ['pr','sp','rs']\n",
    "\n",
    "while True:\n",
    "    player_move = input(\"your move: \")\n",
    "    computer_move = random.choice(moves)\n",
    "    if player_move == 'q':\n",
    "        break\n",
    "    print(\"You: \", player_move)\n",
    "    print(\"worst player ever: \", computer_move)\n",
    "\n",
    "    if player_move == computer_move:\n",
    "        print(\"We both lost, but i lost more!\")    \n",
    "    elif player_move + computer_move in player_wins:\n",
    "        print(\"You win because you are the best\")\n",
    "    else:\n",
    "        print(\"I win but i am still the worst!!!!!!!!!!!!!!!P.S. I pee\")"
   ]
  },
  {
   "cell_type": "code",
   "execution_count": null,
   "metadata": {},
   "outputs": [],
   "source": []
  },
  {
   "cell_type": "raw",
   "metadata": {},
   "source": []
  }
 ],
 "metadata": {
  "kernelspec": {
   "display_name": "Python 3",
   "language": "python",
   "name": "python3"
  },
  "language_info": {
   "codemirror_mode": {
    "name": "ipython",
    "version": 3
   },
   "file_extension": ".py",
   "mimetype": "text/x-python",
   "name": "python",
   "nbconvert_exporter": "python",
   "pygments_lexer": "ipython3",
   "version": "3.7.3"
  }
 },
 "nbformat": 4,
 "nbformat_minor": 2
}
