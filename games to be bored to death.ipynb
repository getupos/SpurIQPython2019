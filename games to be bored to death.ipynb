{
 "cells": [
  {
   "cell_type": "code",
   "execution_count": 1,
   "metadata": {},
   "outputs": [],
   "source": [
    "import sqlite3\n",
    "import ipywidgets as widgets\n",
    "import random\n",
    "import ast"
   ]
  },
  {
   "cell_type": "code",
   "execution_count": 2,
   "metadata": {},
   "outputs": [],
   "source": [
    "def create():\n",
    "    mydb = sqlite3.connect(\"mydatabase.db\")\n",
    "    mycursor = mydb.cursor()\n",
    "    mycursor.execute(\"CREATE TABLE Trivia (id INTEGER PRIMARY KEY, Questions VARCHAR(255), Answers VARCHAR(255), Categories VARCHAR(255))\")       \n",
    "    mydb.close()\n",
    "\n",
    "def fill():\n",
    "    mydb = sqlite3.connect(\"mydatabase.db\")\n",
    "    mycursor = mydb.cursor()\n",
    "    sql = \"INSERT INTO Trivia (Questions, Answers, Categories) VALUES (?, ?, ?)\"\n",
    "    val =[\n",
    "    ('What is the seventh largest state in the US?','Nevada','states'),\n",
    "    ('what is the biggest state in the united states by size?','Alaska','states'),\n",
    "    ('What is the largest state in the world by land area?','Alaska','states'),\n",
    "    ('what is the smallest state in the world?','Vatican City','states'),\n",
    "    ('what state has the smallest population in the world?','Vatcian City','states'),\n",
    "    ('which state has the largest population in the world?','california','states'),\n",
    "    ('what is the difference between a state and a country?', 'a country has its own goverment another goverment controls a state','states'),\n",
    "    ('what is a state?','a country governed by another country','states'),    \n",
    "    ('where is the world biggest mall?','Dubai','fun'),\n",
    "    ('this trivia is awesome','yes','fun'),\n",
    "    ('everyone is awesome','yes','fun'),\n",
    "    ('did captain america die in endgame?','no','fun'),\n",
    "    ('who has the most money in the world?','Jeff Bezos — $108.9 billion. (Reuters)','fun'),\n",
    "    ('who was the smartest person ever?','Albert Einstein','fun'),\n",
    "    ('does harry potter have a son','yes','fun'),\n",
    "    ('who benefited the most from what happened in endgame?','Thor','fun'),\n",
    "    ('what was the first name in of thanos in infinity war?','josh','marvel movies'),\n",
    "    ('who was the first human torch actor? answer in lowercase','christopher robert evans','marvel movies'),\n",
    "    ('what is spider man name?','peter parker','marvel movies'),\n",
    "    ('what is hulks name?','bruce','marvel movies'),\n",
    "    ]\n",
    "    mycursor.executemany(sql, val)\n",
    "    mydb.commit()\n",
    "    mydb.close()\n",
    "    \n",
    "def delete():\n",
    "    mydb = sqlite3.connect(\"mydatabase.db\")\n",
    "    mycursor = mydb.cursor()\n",
    "    mycursor.execute(\"DROP TABLE IF EXISTS Trivia\")\n",
    "    mydb.close()\n",
    "    \n",
    "def getQuestions(category):\n",
    "    mydb = sqlite3.connect(\"mydatabase.db\")\n",
    "    mycursor = mydb.cursor()\n",
    "    sql = \"SELECT * FROM Trivia WHERE Categories = ?\"\n",
    "    val = [category,]\n",
    "    mycursor.execute(sql,val)\n",
    "    results = mycursor.fetchall()\n",
    "    return results\n",
    "    \n",
    "def deleteFromTable(id):\n",
    "    mydb = sqlite3.connect(\"mydatabase.db\")\n",
    "    mycursor = mydb.cursor()\n",
    "    sql = \"DELETE FROM Trivia WHERE id = ?\"\n",
    "    val = (id,)\n",
    "    mycursor.execute(sql, val)\n",
    "    mydb.commit()\n",
    "    mydb.close()"
   ]
  },
  {
   "cell_type": "code",
   "execution_count": 3,
   "metadata": {},
   "outputs": [],
   "source": [
    "delete()\n",
    "create()\n",
    "fill()"
   ]
  },
  {
   "cell_type": "code",
   "execution_count": 9,
   "metadata": {
    "scrolled": true
   },
   "outputs": [
    {
     "data": {
      "application/vnd.jupyter.widget-view+json": {
       "model_id": "67a8f4f355f740b38c2c69f4008c2786",
       "version_major": 2,
       "version_minor": 0
      },
      "text/plain": [
       "Select(description='Category:', options=('states', 'fun', 'marvel movies'), value='states')"
      ]
     },
     "metadata": {},
     "output_type": "display_data"
    },
    {
     "data": {
      "application/vnd.jupyter.widget-view+json": {
       "model_id": "984599afea204d5b8716035bcf10b27c",
       "version_major": 2,
       "version_minor": 0
      },
      "text/plain": [
       "Button(description='Go!', style=ButtonStyle())"
      ]
     },
     "metadata": {},
     "output_type": "display_data"
    }
   ],
   "source": [
    "def askQuestion():\n",
    "    category = categoryButton.value\n",
    "    results = getQuestions(category)\n",
    "    if len(results) == 0:\n",
    "        buttonBox.close()\n",
    "        question.close()\n",
    "        user_answer.close()\n",
    "        correct_answer.close()\n",
    "        result.close()\n",
    "        display(end_game)\n",
    "        return\n",
    "    selectedQuestion = random.choice(results)\n",
    "    i = selectedQuestion[0]\n",
    "    q = selectedQuestion[1]\n",
    "    a = selectedQuestion[2]\n",
    "    deleteFromTable(i)\n",
    "    question.value = \"Question: \" + q\n",
    "    correct_answer.value = a\n",
    "\n",
    "def beginGame(b):\n",
    "    categoryButton.close()\n",
    "    goButton.close()\n",
    "    askQuestion()\n",
    "    display(question)\n",
    "    display(user_answer)\n",
    "    display(buttonBox)\n",
    "    display(result)\n",
    "    display(show_answer)\n",
    "    nextButton.disabled = True\n",
    "    \n",
    "def submitAnswer(b):\n",
    "    submitButton.disabled = True\n",
    "    if user_answer.value == \"\" or user_answer.value == \" \":\n",
    "        result.value = \"Incorrect!\"\n",
    "    elif user_answer.value.lower() == correct_answer.value.lower():\n",
    "        result.value = \"Correct!\"\n",
    "    else:\n",
    "        result.value = \"Incorrect!\"\n",
    "        show_answer.value = correct_answer.value\n",
    "    nextButton.disabled = False\n",
    "   \n",
    "def nextQuestion(b):\n",
    "    nextButton.disabled = True\n",
    "    result.value = \"\"\n",
    "    show_answer.value = \"\"\n",
    "    user_answer.value = \"\"\n",
    "    askQuestion()\n",
    "    submitButton.disabled = False\n",
    "\n",
    "\n",
    "categories = ['states','fun','marvel movies']\n",
    "\n",
    "categoryButton = widgets.Select(options=categories, value=categories[0], description='Category:')\n",
    "goButton = widgets.Button(description='Go!')\n",
    "submitButton = widgets.Button(description='Submit answer!')\n",
    "\n",
    "nextButton = widgets.Button(description='Next question!')\n",
    "buttonBox = widgets.HBox([submitButton,nextButton])\n",
    "display(categoryButton)\n",
    "display(goButton)\n",
    "\n",
    "question = widgets.Label()\n",
    "user_answer = widgets.Text(placeholder='Answer here...',description='Answer:')\n",
    "correct_answer = widgets.Text()\n",
    "show_answer = widgets.Label()\n",
    "result = widgets.Label()\n",
    "end_game = widgets.Label(\"That's all! Thanks for playing!\")\n",
    "\n",
    "goButton.on_click(beginGame)\n",
    "submitButton.on_click(submitAnswer)\n",
    "nextButton.on_click(nextQuestion)"
   ]
  },
  {
   "cell_type": "code",
   "execution_count": null,
   "metadata": {},
   "outputs": [],
   "source": []
  },
  {
   "cell_type": "code",
   "execution_count": null,
   "metadata": {},
   "outputs": [],
   "source": []
  },
  {
   "cell_type": "code",
   "execution_count": null,
   "metadata": {},
   "outputs": [],
   "source": [
    "\n",
    "    "
   ]
  },
  {
   "cell_type": "code",
   "execution_count": null,
   "metadata": {},
   "outputs": [],
   "source": []
  },
  {
   "cell_type": "code",
   "execution_count": null,
   "metadata": {},
   "outputs": [],
   "source": []
  },
  {
   "cell_type": "code",
   "execution_count": null,
   "metadata": {},
   "outputs": [],
   "source": []
  },
  {
   "cell_type": "code",
   "execution_count": null,
   "metadata": {},
   "outputs": [],
   "source": []
  },
  {
   "cell_type": "code",
   "execution_count": null,
   "metadata": {},
   "outputs": [],
   "source": []
  },
  {
   "cell_type": "code",
   "execution_count": null,
   "metadata": {},
   "outputs": [],
   "source": []
  }
 ],
 "metadata": {
  "kernelspec": {
   "display_name": "Python 3",
   "language": "python",
   "name": "python3"
  },
  "language_info": {
   "codemirror_mode": {
    "name": "ipython",
    "version": 3
   },
   "file_extension": ".py",
   "mimetype": "text/x-python",
   "name": "python",
   "nbconvert_exporter": "python",
   "pygments_lexer": "ipython3",
   "version": "3.7.3"
  }
 },
 "nbformat": 4,
 "nbformat_minor": 2
}
