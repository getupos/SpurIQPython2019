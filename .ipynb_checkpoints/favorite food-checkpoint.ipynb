{
 "cells": [
  {
   "cell_type": "code",
   "execution_count": 6,
   "metadata": {},
   "outputs": [
    {
     "name": "stdout",
     "output_type": "stream",
     "text": [
      "{'chicken tenders', 'apple', 'cucumber'}\n"
     ]
    }
   ],
   "source": [
    "mylist = {'apple', 'chicken tenders', 'cucumber'}\n",
    "print(mylist)"
   ]
  },
  {
   "cell_type": "code",
   "execution_count": 7,
   "metadata": {},
   "outputs": [
    {
     "name": "stdout",
     "output_type": "stream",
     "text": [
      "{'food', 'dessert', 'bell peppers'}\n"
     ]
    }
   ],
   "source": [
    "thistuple = {\"bell peppers\", \"food\", \"dessert\"}\n",
    "print(thistuple)"
   ]
  },
  {
   "cell_type": "code",
   "execution_count": 8,
   "metadata": {},
   "outputs": [
    {
     "name": "stdout",
     "output_type": "stream",
     "text": [
      "['I', 'like', 'dessert']\n"
     ]
    }
   ],
   "source": [
    "thisset = [\"I\",\"like\",\"dessert\"]\n",
    "print(thisset)"
   ]
  },
  {
   "cell_type": "code",
   "execution_count": 9,
   "metadata": {
    "scrolled": true
   },
   "outputs": [
    {
     "name": "stdout",
     "output_type": "stream",
     "text": [
      "{'make': 'Danny', 'model': 'smartness', 'year': 'today'}\n"
     ]
    }
   ],
   "source": [
    "thisdinct = {\n",
    "    \"make\": \"Danny\",\n",
    "    \"model\": \"smartness\",\n",
    "    \"year\": \"today\"\n",
    "}\n",
    "print(thisdinct)"
   ]
  },
  {
   "cell_type": "code",
   "execution_count": 30,
   "metadata": {},
   "outputs": [
    {
     "ename": "SyntaxError",
     "evalue": "invalid syntax (<ipython-input-30-d5d10fb8630f>, line 1)",
     "output_type": "error",
     "traceback": [
      "\u001b[0;36m  File \u001b[0;32m\"<ipython-input-30-d5d10fb8630f>\"\u001b[0;36m, line \u001b[0;32m1\u001b[0m\n\u001b[0;31m    call myFunction(food):\u001b[0m\n\u001b[0m                  ^\u001b[0m\n\u001b[0;31mSyntaxError\u001b[0m\u001b[0;31m:\u001b[0m invalid syntax\n"
     ]
    }
   ],
   "source": [
    "call myFunction(food):\n",
    "    return\n",
    "    for x in food:\n",
    "        i = x+sum\n",
    "        sum = i+sum\n",
    "        print(sum)\n",
    "fruits = [\"apple\", \"banana\", \"cherry\"]"
   ]
  },
  {
   "cell_type": "code",
   "execution_count": null,
   "metadata": {},
   "outputs": [],
   "source": [
    "def myfunction(numbers):\n",
    "    numbers: [1,2]\n",
    "        for x in numbers:\n",
    "            i = x+sum\n",
    "            sum = \n",
    "    "
   ]
  },
  {
   "cell_type": "code",
   "execution_count": null,
   "metadata": {},
   "outputs": [],
   "source": [
    "mydb = sqlite3.connect(\"mydatabase.db\")\n",
    "mycursor = mydb.cursor()\n",
    "mycursor.execute(\"CREATE TABLE customers (id INTEGER PRIMARY KEY, name VARCHAR(255), address VARCHAR(255))\")\n",
    "mydb.close()"
   ]
  }
 ],
 "metadata": {
  "kernelspec": {
   "display_name": "Python 3",
   "language": "python",
   "name": "python3"
  },
  "language_info": {
   "codemirror_mode": {
    "name": "ipython",
    "version": 3
   },
   "file_extension": ".py",
   "mimetype": "text/x-python",
   "name": "python",
   "nbconvert_exporter": "python",
   "pygments_lexer": "ipython3",
   "version": "3.7.3"
  }
 },
 "nbformat": 4,
 "nbformat_minor": 2
}
